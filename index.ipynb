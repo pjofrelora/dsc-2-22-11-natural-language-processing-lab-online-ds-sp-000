{
 "cells": [
  {
   "cell_type": "markdown",
   "metadata": {},
   "source": [
    "# Word Vectorization - Lab\n",
    "\n",
    "## Introduction\n",
    "\n",
    "In this lab, we'll learn how tokenize and vectorize text documents, create an use a Bag of Words, and identify words unique to individual documents using TF-IDF Vectorization. \n",
    "\n",
    "## Objectives\n",
    "\n",
    "You will be able to: \n",
    "\n",
    "* Tokenize a corpus of words and identify the different choices to be made while parsing them\n",
    "* Use a Count Vectorization strategy to create a Bag of Words\n",
    "* Use TF-IDF Vectorization with multiple documents to identify words that are important/unique to certain documents\n",
    "\n",
    "## Let's get started!\n",
    "\n",
    "Run the cell below to import everything necessary for this lab.  "
   ]
  },
  {
   "cell_type": "code",
   "execution_count": 94,
   "metadata": {},
   "outputs": [],
   "source": [
    "import pandas as pd\n",
    "import numpy as np\n",
    "from mpl_toolkits.mplot3d import Axes3D\n",
    "import matplotlib.pyplot as plt\n",
    "%matplotlib inline\n",
    "from sklearn.manifold import TSNE\n",
    "from nltk.tokenize import word_tokenize\n",
    "import nltk\n",
    "np.random.seed(0)"
   ]
  },
  {
   "cell_type": "markdown",
   "metadata": {},
   "source": [
    "### Our Corpus\n",
    "\n",
    "In this lab, we'll be working with 20 different documents, each containing song lyrics from either Garth Brooks or Kendrick Lamar albums.  \n",
    "\n",
    "The songs are contained within the `data` subdirectory, contained within the same folder as this lab.  Each song is stored in a single file, with files ranging from `song1.txt` to `song20.txt`.  \n",
    "\n",
    "To make it easy to read in all of the documents, use a list comprehension to create a list containing the name of every single song file in the cell below. "
   ]
  },
  {
   "cell_type": "code",
   "execution_count": 13,
   "metadata": {},
   "outputs": [
    {
     "data": {
      "text/plain": [
       "['song1.txt',\n",
       " 'song2.txt',\n",
       " 'song3.txt',\n",
       " 'song4.txt',\n",
       " 'song5.txt',\n",
       " 'song6.txt',\n",
       " 'song7.txt',\n",
       " 'song8.txt',\n",
       " 'song9.txt',\n",
       " 'song10.txt',\n",
       " 'song11.txt',\n",
       " 'song12.txt',\n",
       " 'song13.txt',\n",
       " 'song14.txt',\n",
       " 'song15.txt',\n",
       " 'song16.txt',\n",
       " 'song17.txt',\n",
       " 'song18.txt',\n",
       " 'song19.txt',\n",
       " 'song20.txt']"
      ]
     },
     "execution_count": 13,
     "metadata": {},
     "output_type": "execute_result"
    }
   ],
   "source": [
    "filenames = ['song'+str(i)+'.txt' for i in range(1,21)]\n",
    "filenames"
   ]
  },
  {
   "cell_type": "markdown",
   "metadata": {},
   "source": [
    "Next, let's import a single song to see what our text looks like so that we can make sure we clean and tokenize it correctly. \n",
    "\n",
    "In the cell below, read in and print out the lyrics from `song11.txt`.  Use vanilla python, no pandas needed.  "
   ]
  },
  {
   "cell_type": "code",
   "execution_count": 25,
   "metadata": {
    "scrolled": true
   },
   "outputs": [
    {
     "data": {
      "text/plain": [
       "['[Kendrick Lamar:]\\n',\n",
       " \"Love, let's talk about love\\n\",\n",
       " 'Is it anything and everything you hoped for?\\n',\n",
       " 'Or do the feeling haunt you?\\n',\n",
       " 'I know the feeling haunt you\\n',\n",
       " '[SZA:]\\n',\n",
       " 'This may be the night that my dreams might let me know\\n',\n",
       " 'All the stars approach you, all the stars approach you, all the stars approach you\\n',\n",
       " 'This may be the night that my dreams might let me know\\n',\n",
       " 'All the stars are closer, all the stars are closer, all the stars are closer\\n',\n",
       " '[Kendrick Lamar:]\\n',\n",
       " \"Tell me what you gon' do to me\\n\",\n",
       " \"Confrontation ain't nothin' new to me\\n\",\n",
       " 'You can bring a bullet, bring a sword, bring a morgue\\n',\n",
       " \"But you can't bring the truth to me\\n\",\n",
       " 'Fuck you and all your expectations\\n',\n",
       " \"I don't even want your congratulations\\n\",\n",
       " 'I recognize your false confidence\\n',\n",
       " 'And calculated promises all in your conversation\\n',\n",
       " 'I hate people that feel entitled\\n',\n",
       " \"Look at me crazy 'cause I ain't invite you\\n\",\n",
       " 'Oh, you important?\\n',\n",
       " \"You the moral to the story? You endorsin'?\\n\",\n",
       " \"Motherfucker, I don't even like you\\n\",\n",
       " \"Corrupt a man's heart with a gift\\n\",\n",
       " \"That's how you find out who you dealin' with\\n\",\n",
       " \"A small percentage who I'm buildin' with\\n\",\n",
       " \"I want the credit if I'm losin' or I'm winnin'\\n\",\n",
       " \"On my momma, that's the realest shit\\n\",\n",
       " \"Love, let's talk about love\\n\",\n",
       " 'Is it anything and everything you hoped for?\\n',\n",
       " 'Or do the feeling haunt you?\\n',\n",
       " 'I know the feeling haunt you\\n',\n",
       " '[SZA:]\\n',\n",
       " 'This may be the night that my dreams might let me know\\n',\n",
       " 'All the stars approach you, all the stars approach you, all the stars approach you\\n',\n",
       " 'This may be the night that my dreams might let me know\\n',\n",
       " 'All the stars are closer, all the stars are closer, all the stars are closer\\n',\n",
       " 'Skin covered in ego\\n',\n",
       " \"Get to talkin' like ya involved, like a rebound\\n\",\n",
       " 'Got no end game, got no reason\\n',\n",
       " \"Got to stay down, it's the way that you making me feel\\n\",\n",
       " 'Like nobody ever loved me like you do, you do\\n',\n",
       " \"You kinda feeling like you're tryna get away from me\\n\",\n",
       " \"If you do, I won't move\\n\",\n",
       " \"I ain't just cryin' for no reason\\n\",\n",
       " \"I ain't just prayin' for no reason\\n\",\n",
       " 'I give thanks for the days, for the hours\\n',\n",
       " \"And another way, another life breathin'\\n\",\n",
       " \"I did it all 'cause it feel good\\n\",\n",
       " \"I wouldn't do it at all if it feel bad\\n\",\n",
       " \"Better live your life, we're runnin' out of time\\n\",\n",
       " '[Kendrick Lamar & SZA:]\\n',\n",
       " \"Love, let's talk about love\\n\",\n",
       " 'Is it anything and everything you hoped for?\\n',\n",
       " 'Or do the feeling haunt you?\\n',\n",
       " 'I know the feeling haunt you\\n',\n",
       " '[SZA:]\\n',\n",
       " 'This may be the night that my dreams might let me know\\n',\n",
       " 'All the stars approach you, all the stars approach you, all the stars approach you\\n',\n",
       " 'This may be the night that my dreams might let me know\\n',\n",
       " 'All the stars are closer, all the stars are closer, all the stars are closer\\n']"
      ]
     },
     "execution_count": 25,
     "metadata": {},
     "output_type": "execute_result"
    }
   ],
   "source": [
    "d = 'data/'\n",
    "with open(d+filenames[10]) as f:\n",
    "    song = (f.readlines())\n",
    "song"
   ]
  },
  {
   "cell_type": "markdown",
   "metadata": {},
   "source": [
    "### Tokenizing our Data\n",
    "\n",
    "Before we can create a Bag of Words or vectorize each document, we need to clean it up and split each song into an array of individual words.  Computers are very particular about strings. If we tokenized our data in it's current state, we would run into the following problems:\n",
    "\n",
    "1. Counting things that aren't actually words.  In the example above, `\"[Kendrick]\"` is a note specifying who is speaking, not a lyric contained in the actual song, so it should be removed.  \n",
    "1. Punctuation and capitalization would mess up our word counts.  To the python interpreter, `love`, `Love`, `Love?`, and `Love\\n` are all unique words, and would all be counted separately.  We need to remove punctuation and capitalization, so that all words will be counted correctly. \n",
    "\n",
    "Consider the following sentences from the example above:\n",
    "\n",
    "`\"Love, let's talk about love\\n\", 'Is it anything and everything you hoped for?\\n'`\n",
    "\n",
    "After tokenization, this should look like:\n",
    "\n",
    "`['love', 'let's', 'talk', 'about', 'love', 'is', 'it', 'anything', 'and', 'everything', 'you', 'hoped', 'for']`\n",
    "\n",
    "Tokenization is pretty tedious if we handle it manually, and would probably make use of Regular Expressions, which is outside the scope of this lab.  In order to keep this lab moving, we'll use a library function to clean and tokenize our data so that we can move onto vectorization.  \n",
    "\n",
    "Tokenization is a required task for just about any Natural Language Processing (NLP) task, so great industry-standard tools exist to tokenize things for us, so that we can spend our time on more important tasks without getting bogged down hunting every special symbol or punctuation in a massive dataset. For this lab, we'll make use of the tokenizer in the amazing `nltk` library, which is short for _Natural Language Tool Kit_.\n",
    "\n",
    "**_NOTE:_** NLTK requires extra installation methods to be run the first time certain methods are used.  If `nltk` throws you an error about needing to install additional packages, follow the instructions in the error message to install the dependencies, and then rerun the cell.  \n",
    "\n",
    "Before we tokenize our songs, we'll do only a small manual bit of cleaning.  In the cell below, write a function that allows us to remove lines that have `['artist names']` in it, to ensure that our song files contain only lyrics that are actually in the song. For the lines that remain, make every word lowercase, remove newline characters `\\n`, and any of the following punctuation marks: `\",.'?!\"`\n",
    "\n",
    "Test the function on `test_song` to show that it has successfully removed `'[Kendrick Lamar:]'` and other instances of artist names from the song and returned it.  "
   ]
  },
  {
   "cell_type": "code",
   "execution_count": 47,
   "metadata": {},
   "outputs": [
    {
     "name": "stdout",
     "output_type": "stream",
     "text": [
      "['love lets talk about love ', 'is it anything and everything you hoped for? ', 'or do the feeling haunt you? ', 'i know the feeling haunt you ', 'this may be the night that my dreams might let me know ', 'all the stars approach you all the stars approach you all the stars approach you ', 'this may be the night that my dreams might let me know ', 'all the stars are closer all the stars are closer all the stars are closer ', 'tell me what you gon do to me ', 'confrontation aint nothin new to me ', 'you can bring a bullet bring a sword bring a morgue ', 'but you cant bring the truth to me ', 'fuck you and all your expectations ', 'i dont even want your congratulations ', 'i recognize your false confidence ', 'and calculated promises all in your conversation ', 'i hate people that feel entitled ', 'look at me crazy cause i aint invite you ', 'oh you important? ', 'you the moral to the story? you endorsin? ', 'motherfucker i dont even like you ', 'corrupt a mans heart with a gift ', 'thats how you find out who you dealin with ', 'a small percentage who im buildin with ', 'i want the credit if im losin or im winnin ', 'on my momma thats the realest shit ', 'love lets talk about love ', 'is it anything and everything you hoped for? ', 'or do the feeling haunt you? ', 'i know the feeling haunt you ', 'this may be the night that my dreams might let me know ', 'all the stars approach you all the stars approach you all the stars approach you ', 'this may be the night that my dreams might let me know ', 'all the stars are closer all the stars are closer all the stars are closer ', 'skin covered in ego ', 'get to talkin like ya involved like a rebound ', 'got no end game got no reason ', 'got to stay down its the way that you making me feel ', 'like nobody ever loved me like you do you do ', 'you kinda feeling like youre tryna get away from me ', 'if you do i wont move ', 'i aint just cryin for no reason ', 'i aint just prayin for no reason ', 'i give thanks for the days for the hours ', 'and another way another life breathin ', 'i did it all cause it feel good ', 'i wouldnt do it at all if it feel bad ', 'better live your life were runnin out of time ', 'love lets talk about love ', 'is it anything and everything you hoped for? ', 'or do the feeling haunt you? ', 'i know the feeling haunt you ', 'this may be the night that my dreams might let me know ', 'all the stars approach you all the stars approach you all the stars approach you ', 'this may be the night that my dreams might let me know ', 'all the stars are closer all the stars are closer all the stars are closer ']\n"
     ]
    }
   ],
   "source": [
    "def clean_song(song):\n",
    "    song =  [line.lower().\\\n",
    "             strip(\".?!\").\\\n",
    "             replace(\"'\",\"\").\\\n",
    "             replace(',','').\\\n",
    "             replace('\\n', ' ') \\\n",
    "             for line in song if '[' not in line]\n",
    "    return song\n",
    "\n",
    "song_without_brackets = clean_song(song)\n",
    "print(song_without_brackets)"
   ]
  },
  {
   "cell_type": "markdown",
   "metadata": {},
   "source": [
    "Great. Now, write a function that takes in songs that have had their brackets removed, joins all of the lines into a single string, and then uses `tokenize()` on it to get a fully tokenized version of the song.  Test this funtion on `song_without_brackets` to ensure that the function works. "
   ]
  },
  {
   "cell_type": "code",
   "execution_count": 48,
   "metadata": {},
   "outputs": [
    {
     "data": {
      "text/plain": [
       "['love',\n",
       " 'lets',\n",
       " 'talk',\n",
       " 'about',\n",
       " 'love',\n",
       " 'is',\n",
       " 'it',\n",
       " 'anything',\n",
       " 'and',\n",
       " 'everything']"
      ]
     },
     "execution_count": 48,
     "metadata": {},
     "output_type": "execute_result"
    }
   ],
   "source": [
    "def tokenize(song):\n",
    "    song = \"\".join(song)\n",
    "    return word_tokenize(song)\n",
    "\n",
    "tokenized_test_song = tokenize(song_without_brackets)\n",
    "tokenized_test_song[:10]"
   ]
  },
  {
   "cell_type": "markdown",
   "metadata": {},
   "source": [
    "Great! Now that we know the ability to tokenize our songs, we can move onto Vectorization. \n",
    "\n",
    "### Count Vectorization\n",
    "\n",
    "Machine Learning algorithms don't understand strings.  However, they do understand math, which means they understand vectors and matrices.  By **_Vectorizing_** the text, we just convert the entire text into a vector, where each element in the vector represents a different word.  The vector is the length of the entire vocabulary--usually, every word that occurs in the English language, or at least every word that appears in our corpus.  Any given sentence can then be represented as a vector where all the vector is 1 (or some other value) for each time that word appears in the sentence. \n",
    "\n",
    "Consider the following example: \n",
    "\n",
    "<center>\"I scream, you scream, we all scream for ice cream.\"</center>\n",
    "\n",
    "| 'aardvark' | 'apple' | [...] | 'I' | 'you' | 'scream' | 'we' | 'all' | 'for' | 'ice' | 'cream' | [...] | 'xylophone' | 'zebra' |\n",
    "|:----------:|:-------:|:-----:|:---:|:-----:|:--------:|:----:|:-----:|:-----:|:-----:|:-------:|:-----:|:-----------:|:-------:|\n",
    "|      0     |    0    |   0   |  1  |   1   |     3    |   1  |   1   |   1   |   1   |    1    |   0   |      0      |    0    |\n",
    "\n",
    "This is called a **_Sparse Representation_**, since the strong majority of the columns will have a value of 0.  Note that elements corresponding to words that do not occur in the sentence have a value of 0, while words that do appear in the sentence have a value of 1 (or 1 for each time it appears in the sentence).\n",
    "\n",
    "Alternatively, we can represent this sentence as a plain old python dictionary of word frequency counts:\n",
    "\n",
    "```python\n",
    "BoW = {\n",
    "    'I':1,\n",
    "    'you':1,\n",
    "    'scream':3,\n",
    "    'we':1,\n",
    "    'all':1,\n",
    "    'for':1,\n",
    "    'ice':1,\n",
    "    'cream':1\n",
    "}\n",
    "```\n",
    "\n",
    "Both of these are examples of **_Count Vectorization_**. They allow us to represent a sentence as a vector, with each element in the vector corresponding to how many times that word is used.\n",
    "\n",
    "#### Positional Information and Bag of Words\n",
    "\n",
    "Notice that when we vectorize a sentence this way, we lose the order that the words were in.  This is the **_Bag of Words_** approach mentioned earlier.  Note that sentences that contain the same words will create the same vectors, even if they mean different things--e.g. `'cats are scared of dogs'` and `'dogs are scared of cats'` would both produce the exact same vector, since they contain the same words.  \n",
    "\n",
    "In the cell below, create a function that takes in a tokenized, cleaned song and returns a Count Vectorized representation of it as a python dictionary. Add in an optional parameter called `vocab` that defaults to `None`. This way, if we are using a vocabulary that contains words not seen in the song, we can still use this function by passing it in to the `vocab` parameter. \n",
    "\n",
    "**_Hint:_**  Consider using a `set` object to make this easier!"
   ]
  },
  {
   "cell_type": "code",
   "execution_count": 51,
   "metadata": {},
   "outputs": [
    {
     "name": "stdout",
     "output_type": "stream",
     "text": [
      "{'if': 6, 'credit': 1, 'you': 40, 'it': 15, 'buildin': 1, 'im': 5, 'crazy': 1, 'to': 7, 'for': 7, 'bring': 4, 'wouldnt': 1, 'hate': 1, 'tell': 1, 'everything': 3, 'bad': 1, 'even': 2, 'false': 1, 'this': 6, 'losin': 1, 'another': 2, 'away': 1, 'oh': 1, 'move': 1, 'confrontation': 1, 'all': 23, 'the': 41, 'loved': 1, 'live': 1, 'runnin': 1, 'recognize': 1, 'get': 2, 'morgue': 1, 'nothin': 1, 'thats': 2, 'who': 2, 'important': 1, 'that': 10, 'feel': 11, 'a': 158, 'expectations': 1, 'my': 7, 'might': 6, 'percentage': 1, 'making': 1, 'winnin': 1, 'its': 1, 'youre': 1, 'love': 7, 'know': 9, 'me': 16, 'give': 1, 'may': 6, 'confidence': 1, 'cryin': 1, 'want': 2, 'let': 10, 'motherfucker': 1, 'down': 1, 'out': 5, 'be': 7, 'aint': 4, 'night': 6, 'promises': 1, 'dealin': 1, 'congratulations': 1, 'are': 9, 'endorsin': 1, 'skin': 1, 'hoped': 3, 'ya': 1, 'lets': 3, 'wont': 1, 'fuck': 2, 'do': 12, 'thanks': 1, 'tryna': 1, 'sword': 1, 'closer': 9, 'way': 3, 'ego': 1, 'on': 13, 'good': 1, 'or': 18, 'heart': 1, 'anything': 3, 'haunt': 6, 'find': 1, 'talkin': 1, 'covered': 1, 'feeling': 7, 'dont': 2, 'realest': 1, 'can': 2, 'better': 1, 'cant': 1, 'days': 1, 'moral': 1, 'how': 1, 'stars': 18, 'and': 6, 'truth': 1, 'stay': 1, 'conversation': 1, 'end': 2, '?': 9, 'hours': 1, 'mans': 1, 'nobody': 1, 'involved': 1, 'did': 1, 'just': 2, 'invite': 1, 'from': 1, 'corrupt': 1, 'at': 20, 'game': 1, 'prayin': 1, 'gon': 1, 'momma': 1, 'breathin': 1, 'calculated': 1, 'entitled': 1, 'what': 1, 'bullet': 1, 'gift': 1, 'look': 1, 'shit': 1, 'new': 1, 'story': 1, 'talk': 4, 'with': 3, 'ever': 4, 'life': 2, 'of': 1, 'small': 1, 'rebound': 1, 'were': 1, 'in': 40, 'about': 3, 'dreams': 6, 'cause': 2, 'is': 10, 'time': 1, 'no': 17, 'approach': 9, 'i': 117, 'people': 1, 'got': 3, 'kinda': 1, 'reason': 3, 'like': 6, 'but': 1, 'your': 6}\n"
     ]
    }
   ],
   "source": [
    "def count_vectorize(song, vocab=None):\n",
    "    song_set = set(song)\n",
    "    if vocab == None:\n",
    "        return {word:sum(word in words for words in song) for word in song_set} # Hot damn \n",
    "    else:\n",
    "        vocab_set = set(vocab)\n",
    "        return {word:sum(word in words for words in song) for word in vocab_set}\n",
    "\n",
    "test_vectorized = count_vectorize(tokenized_test_song)\n",
    "print(test_vectorized)"
   ]
  },
  {
   "cell_type": "markdown",
   "metadata": {},
   "source": [
    "Great! You've just successfully vectorized your first text document! Now, let's look at a more advanced type of vectorization, TF-IDF!\n",
    "\n",
    "### TF-IDF Vectorization\n",
    "\n",
    "TF-IDF stands for **_Term Frequency, Inverse Document Frequency_**.  This is a more advanced form of vectorization that weights each term in a document by how unique it is to the given document it is contained in, which allows us to summarize the contents of a document using a few key words.  If the word is used often in many other documents, it is not unique, and therefore probably not too useful if we wanted to figure out how this document is unique in relation to other documents.  Conversely, if a word is used many times in a document, but rarely in all the other documents we are considering, then it is likely a good indicator for telling us that this word is important to the document in question.  \n",
    "\n",
    "The formula TF-IDF uses to determine the weights of each term in a document is **_Term Frequency_** multipled by **_Inverse Document Frequency_**, where the formula for Term Frequency is:\n",
    "\n",
    "$$\\large Term\\ Frequency(t) = \\frac{number\\ of\\ times\\ t\\ appears\\ in\\ a\\ document} {total\\ number\\ of\\ terms\\ in\\ the\\ document} $$\n",
    "<br>\n",
    "<br>\n",
    "Complete the following function below to calculate term frequency for every term in a document.  "
   ]
  },
  {
   "cell_type": "code",
   "execution_count": 96,
   "metadata": {},
   "outputs": [
    {
     "name": "stdout",
     "output_type": "stream",
     "text": [
      "['wouldnt', 'hate', 'tell', 'everything', 'bad', 'even', 'false', 'this', 'losin', 'another']\n"
     ]
    }
   ],
   "source": [
    "def term_frequency(BoW_dict):\n",
    "    keys = BoW_dict.keys()\n",
    "    terms_total = sum(BoW_dict.values())\n",
    "    tf = {key:BoW_dict[key]/terms_total for key in keys}\n",
    "    return tf\n",
    "\n",
    "test = term_frequency(test_vectorized)\n",
    "print(list(test)[10:20])"
   ]
  },
  {
   "cell_type": "markdown",
   "metadata": {},
   "source": [
    "The formula for Inverse Document Frequency is:  \n",
    "<br>  \n",
    "<br>\n",
    "$$\\large  IDF(t) =  log_e(\\frac{Total\\ Number\\ of\\ Documents}{Number\\ of\\ Documents\\ with\\ t\\ in\\ it})$$\n",
    "\n",
    "Now that we have this, we can easily calculate _Inverse Document Frequency_.  In the cell below, complete the following function.  this function should take in the list of dictionaries, with each item in the list being a Bag of Words representing the words in a different song. The function should return a dictionary containing the inverse document frequency values for each word.  "
   ]
  },
  {
   "cell_type": "code",
   "execution_count": 82,
   "metadata": {},
   "outputs": [],
   "source": [
    "def inverse_document_frequency(list_of_dicts):\n",
    "    total = len(list_of_dicts)\n",
    "    list_of_keys = []\n",
    "    for dictionary in list_of_dicts:\n",
    "        list_of_keys += list(dictionary.keys()) # This is non-unique. Repeats are included\n",
    "    word_set = set(list_of_keys)\n",
    "    ratio = {word:total/list_of_keys.count(word) for word in word_set}\n",
    "    IDF = {word:np.log(ratio[word]) for word in word_set}\n",
    "    return IDF"
   ]
  },
  {
   "cell_type": "markdown",
   "metadata": {},
   "source": [
    "### Computing TF-IDF\n",
    "\n",
    "Now that we can compute both Term Frequency and Inverse Document Frequency, computing an overall TF-IDF value is simple! All we need to do is multiply the two values.  \n",
    "\n",
    "In the cell below, complete the `tf_idf()` function.  This function should take in a list of dictionaries, just as the `inverse_document_frequency()` function did.  This function return a new list of dictionaries, with each dictionary containing the tf-idf vectorized representation of a corresponding song document. \n",
    "\n",
    "**_NOTE:_** Each document should contain the full vocabulary of the entire combined corpus.  "
   ]
  },
  {
   "cell_type": "code",
   "execution_count": 66,
   "metadata": {},
   "outputs": [],
   "source": [
    "def tf_idf(list_of_dicts):\n",
    "    IDF = inverse_document_frequency(list_of_dicts)\n",
    "    words = IDF.keys()\n",
    "    TF_IDF_list = []\n",
    "    for dictionary in list_of_dicts:\n",
    "        TF = term_frequency(dictionary)\n",
    "        TF_IDF = {word:(TF[word]*IDF[word] if word in TF.keys() else 0) for word in words}\n",
    "        TF_IDF_list.append(TF_IDF)\n",
    "        \n",
    "    return TF_IDF_list"
   ]
  },
  {
   "cell_type": "markdown",
   "metadata": {},
   "source": [
    "### Vectorizing All Documents\n",
    "\n",
    "Now that we've created all the necessary helper functions, we can load in all of our documents and run each through the vectorization pipeline we've just created.\n",
    "\n",
    "In the cell below, complete the `main` function.  This function should take in a list of file names (provided for you in the `filenames` list we created at the start), and then:\n",
    "\n",
    "1. Read in each document\n",
    "1. Tokenize each document\n",
    "1. Convert each document to a Bag of Words (dictionary representation)\n",
    "1. Return a list of dictionaries vectorized using tf-idf, where each dictionary is a vectorized representation of a document.  \n",
    "\n",
    "**_HINT:_** Remember that all files are stored in the `data/` directory.  Be sure to append this to the filename when reading in each file, otherwise the path won't be correct!"
   ]
  },
  {
   "cell_type": "code",
   "execution_count": 84,
   "metadata": {},
   "outputs": [
    {
     "name": "stdout",
     "output_type": "stream",
     "text": [
      "['change', 'spinning', 'such', 'blades', 'reverence', 'tee', 'bleeding', 'sign', 'bumps', 'genocide']\n"
     ]
    }
   ],
   "source": [
    "def main(filenames):\n",
    "    d = 'data/'\n",
    "    documents = []\n",
    "    for file in filenames:\n",
    "        with open(d+file) as f:\n",
    "            song = (f.readlines())\n",
    "            cleaned = clean_song(song)\n",
    "            tokenized_song = tokenize(cleaned)\n",
    "            BoW = count_vectorize(tokenized_song)\n",
    "            documents.append(BoW)\n",
    "    TF_IDF = tf_idf(documents)\n",
    "    \n",
    "    return TF_IDF\n",
    "\n",
    "tf_idf_all_docs = main(filenames)\n",
    "print(list(tf_idf_all_docs[0])[:10])"
   ]
  },
  {
   "cell_type": "markdown",
   "metadata": {},
   "source": [
    "### Visualizing our Vectorizations\n",
    "\n",
    "Now that we have a tf-idf representation each document, we can move on to the fun part--visualizing everything!\n",
    "\n",
    "Let's investigate how many dimensions our data currently has.  In the cell below, examine our dataset to figure out how many dimensions our dataset has. \n",
    "\n",
    "**_HINT_**: Remember that every word is it's own dimension!"
   ]
  },
  {
   "cell_type": "code",
   "execution_count": 87,
   "metadata": {},
   "outputs": [
    {
     "name": "stdout",
     "output_type": "stream",
     "text": [
      "Number of Dimensions: 1348\n"
     ]
    }
   ],
   "source": [
    "num_dims = len(tf_idf_all_docs[0])\n",
    "print(\"Number of Dimensions: {}\".format(num_dims))"
   ]
  },
  {
   "cell_type": "markdown",
   "metadata": {},
   "source": [
    "That's much too high-dimensional for us to visualize! In order to make it understandable to human eyes, we'll need to reduce dimensionality to 2 or 3 dimensions.  \n",
    "\n",
    "### Reducing Dimensionality\n",
    "\n",
    "To do this, we'll use a technique called **_t-SNE_** (short for _t-Stochastic Neighbors Embedding_).  This is too complex for us to code ourselves, so we'll make use of sklearn's implementation of it.  \n",
    "\n",
    "First, we need to pull the words out of the dictionaries stored in `tf_idf_all_docs` so that only the values remain, and store them in lists instead of dictionaries.  This is because the t-SNE object only works with Array-like objects, not dictionaries.  \n",
    "\n",
    "In the cell below, create a list of lists that contains a list representation of the values of each of the dictionaries stored in `tf_idf_all_docs`.  The same structure should remain--e.g. the first list should contain only the values that were in the 1st dictionary in `tf_idf_all_docs`, and so on. "
   ]
  },
  {
   "cell_type": "code",
   "execution_count": 88,
   "metadata": {},
   "outputs": [
    {
     "data": {
      "text/plain": [
       "[0, 0, 0.005156165703191034, 0, 0, 0, 0, 0, 0, 0]"
      ]
     },
     "execution_count": 88,
     "metadata": {},
     "output_type": "execute_result"
    }
   ],
   "source": [
    "tf_idf_vals_list = []\n",
    "\n",
    "for i in tf_idf_all_docs:\n",
    "    tf_idf_vals_list.append(list(i.values()))\n",
    "    \n",
    "tf_idf_vals_list[0][:10]"
   ]
  },
  {
   "cell_type": "markdown",
   "metadata": {},
   "source": [
    "Now that we have only the values, we can use the `TSNE` object from `sklearn` to transform our data appropriately.  In the cell below, create a `TSNE` with `n_components=3` passed in as a parameter.  Then, use the created object's `fit_transform()` method to transform the data stored in `tf_idf_vals_list` into 3-dimensional data.  Then, inspect the newly transformed data to confirm that it has the correct dimensionality. "
   ]
  },
  {
   "cell_type": "code",
   "execution_count": 90,
   "metadata": {},
   "outputs": [
    {
     "data": {
      "text/plain": [
       "array([[-1.32511826e+02, -1.61545166e+02, -1.32624359e+02],\n",
       "       [ 4.49869347e+01, -2.11224072e+03, -3.81578331e+01],\n",
       "       [-1.56565338e+02, -3.02244629e+02,  1.08204163e+02],\n",
       "       [-9.57739639e+01,  3.67341125e+02,  7.62902908e+01],\n",
       "       [-2.91849518e+02,  7.23262177e+01, -2.44304398e+02],\n",
       "       [-2.14260254e+02,  1.13054329e+02, -2.92149568e+00],\n",
       "       [ 2.84464661e+02, -6.65428619e+01,  4.31320076e+01],\n",
       "       [ 1.28899536e+02,  1.07297028e+02, -2.40438416e+02],\n",
       "       [-2.24204178e+01,  1.64387009e+02,  3.60415588e+02],\n",
       "       [ 1.23170906e+02, -2.91114899e+02,  7.45457916e+01],\n",
       "       [ 3.47629974e+02, -5.65681343e+01, -2.20377365e+02],\n",
       "       [ 4.76282074e+02, -3.88627808e+02,  1.85453598e+02],\n",
       "       [-3.31810394e+02,  1.37270645e+02,  2.20536423e+02],\n",
       "       [ 2.66831136e+00,  7.29045105e+02, -1.69657135e+01],\n",
       "       [ 1.18490481e+00, -3.91086807e+01,  3.25865631e+01],\n",
       "       [ 1.45668793e+01, -7.90093460e+01,  2.83632050e+02],\n",
       "       [-2.10933167e+02, -4.01793091e+02, -1.70901794e+02],\n",
       "       [ 7.43673325e+01,  1.93925034e+02, -1.51097088e+01],\n",
       "       [-4.88408737e+01, -5.23192596e+01, -3.53440521e+02],\n",
       "       [ 1.99022369e+02,  2.92129791e+02,  1.87944000e+02]], dtype=float32)"
      ]
     },
     "execution_count": 90,
     "metadata": {},
     "output_type": "execute_result"
    }
   ],
   "source": [
    "t_sne_object_3d = TSNE(n_components = 3)\n",
    "transformed_data_3d = t_sne_object_3d.fit_transform(tf_idf_vals_list)\n",
    "transformed_data_3d"
   ]
  },
  {
   "cell_type": "markdown",
   "metadata": {},
   "source": [
    "We'll also want to check out how the visualization looks in 2d.  Repeat the process above, but this time, create a `TSNE` object with 2 components instead of 3.  Again, use `fit_transform()` to transform the data and store it in the variable below, and then inspect it to confirm the transformed data has only 2 dimensions. "
   ]
  },
  {
   "cell_type": "code",
   "execution_count": 91,
   "metadata": {},
   "outputs": [
    {
     "data": {
      "text/plain": [
       "array([[ 222.01175  ,  -22.511957 ],\n",
       "       [  35.032433 ,   40.09618  ],\n",
       "       [ -69.9056   ,  -99.33113  ],\n",
       "       [ 164.44728  ,   88.78629  ],\n",
       "       [ -54.398296 ,    7.3650584],\n",
       "       [  57.767353 ,  135.8552   ],\n",
       "       [-117.51832  ,  206.75766  ],\n",
       "       [-205.5117   , -124.24552  ],\n",
       "       [  -1.1887095,  238.10045  ],\n",
       "       [  23.65234  , -187.59529  ],\n",
       "       [ 134.21791  , -134.31284  ],\n",
       "       [-101.18785  , -204.03558  ],\n",
       "       [-137.98848  ,   77.02781  ],\n",
       "       [-224.86893  ,  144.1814   ],\n",
       "       [  27.197908 ,  -71.99617  ],\n",
       "       [-252.97438  ,   13.918811 ],\n",
       "       [ 114.04806  ,  -17.36997  ],\n",
       "       [ -44.492218 ,  118.390656 ],\n",
       "       [ 136.23035  ,  211.85106  ],\n",
       "       [-150.05011  ,  -29.390808 ]], dtype=float32)"
      ]
     },
     "execution_count": 91,
     "metadata": {},
     "output_type": "execute_result"
    }
   ],
   "source": [
    "t_sne_object_2d = TSNE()\n",
    "transformed_data_2d = t_sne_object_2d.fit_transform(tf_idf_vals_list)\n",
    "transformed_data_2d"
   ]
  },
  {
   "cell_type": "markdown",
   "metadata": {},
   "source": [
    "Now, let's visualize everything!  Run the cell below to a 3D visualization of the songs."
   ]
  },
  {
   "cell_type": "code",
   "execution_count": 95,
   "metadata": {},
   "outputs": [
    {
     "data": {
      "image/png": "[encoded data removed]",
      "text/plain": [
       "<Figure size 720x360 with 1 Axes>"
      ]
     },
     "metadata": {
      "needs_background": "light"
     },
     "output_type": "display_data"
    },
    {
     "data": {
      "image/png": "[encoded data removed]",
      "text/plain": [
       "<Figure size 1440x720 with 1 Axes>"
      ]
     },
     "metadata": {
      "needs_background": "light"
     },
     "output_type": "display_data"
    }
   ],
   "source": [
    "kendrick_3d = transformed_data_3d[:10]\n",
    "k3_x = [i[0] for i in kendrick_3d]\n",
    "k3_y = [i[1] for i in kendrick_3d]\n",
    "k3_z = [i[2] for i in kendrick_3d]\n",
    "\n",
    "garth_3d = transformed_data_3d[10:]\n",
    "g3_x = [i[0] for i in garth_3d]\n",
    "g3_y = [i[1] for i in garth_3d]\n",
    "g3_z = [i[2] for i in garth_3d]\n",
    "\n",
    "fig = plt.figure(figsize=(10,5))\n",
    "ax = fig.add_subplot(111, projection='3d')\n",
    "ax.scatter(k3_x, k3_y, k3_z, c='b', s=60, label='Kendrick')\n",
    "ax.scatter(g3_x, g3_y, g3_z, c='red', s=60, label='Garth')\n",
    "ax.view_init(30, 10)\n",
    "ax.legend()\n",
    "plt.show()\n",
    "\n",
    "kendrick_2d = transformed_data_2d[:10]\n",
    "k2_x = [i[0] for i in kendrick_2d]\n",
    "k2_y = [i[1] for i in kendrick_2d]\n",
    "\n",
    "garth_2d = transformed_data_2d[10:]\n",
    "g2_x = [i[0] for i in garth_2d]\n",
    "g2_y = [i[1] for i in garth_2d]\n",
    "\n",
    "fig = plt.figure(figsize=(20,10))\n",
    "ax = fig.add_subplot(222)\n",
    "ax.scatter(k2_x, k2_y, c='b', label='Kendrick')\n",
    "ax.scatter(g2_x, g2_y, c='red', label='Garth')\n",
    "ax.legend()\n",
    "plt.show()"
   ]
  },
  {
   "cell_type": "markdown",
   "metadata": {},
   "source": [
    "Interesting! Take a crack at interpreting these graphs by answering the following question below:\n",
    "\n",
    "What does each graph mean? Do you find one graph more informative than the other? Do you think that this method shows us discernable differences between Kendrick Lamar songs and Garth Brooks songs?  Use the graphs and your understanding of TF-IDF to support your answer.  \n",
    "\n",
    "Write your answer to this question below this line:\n",
    "________________________________________________________________________________________________________________________________\n",
    "\n",
    "Both graphs show a basic trend among the red and blue dots, although the 3-dimensional graph is more informative than the 2-dimensional graph.  We see a separation between the two artists because they both have words that they use, but the other artist does not.  The words in each song that are common to both are reduced very small numbers or to 0, because of the log operation in the IDF function.  This means that the elements of each song vector with the highest values will be the ones that have words that are unique to that specific document, or at least are rarely used in others.  "
   ]
  },
  {
   "cell_type": "markdown",
   "metadata": {},
   "source": [
    "## Summary\n",
    "\n",
    "In this lab, we learned how to: \n",
    "* Tokenize a corpus of words and identify the different choices to be made while parsing them\n",
    "* Use a Count Vectorization strategy to create a Bag of Words\n",
    "* Use TF-IDF Vectorization with multiple documents to identify words that are important/unique to certain documents\n",
    "* Visualize and compare vectorized text documents"
   ]
  }
 ],
 "metadata": {
  "kernelspec": {
   "display_name": "Python 3",
   "language": "python",
   "name": "python3"
  },
  "language_info": {
   "codemirror_mode": {
    "name": "ipython",
    "version": 3
   },
   "file_extension": ".py",
   "mimetype": "text/x-python",
   "name": "python",
   "nbconvert_exporter": "python",
   "pygments_lexer": "ipython3",
   "version": "3.6.6"
  }
 },
 "nbformat": 4,
 "nbformat_minor": 2
}
